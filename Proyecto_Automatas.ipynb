{
  "cells": [
    {
      "cell_type": "markdown",
      "metadata": {
        "id": "u2s0dIygrk7g"
      },
      "source": [
        "# Ejecute esta celda para instalar las dependencias"
      ]
    },
    {
      "cell_type": "code",
      "execution_count": null,
      "metadata": {
        "id": "ADjmhEiU-a7n"
      },
      "outputs": [],
      "source": [
        "!pip install automata-lib==5.0.0"
      ]
    },
    {
      "cell_type": "markdown",
      "metadata": {
        "id": "wCVBiqxfqvwv"
      },
      "source": [
        "# *para ejecutar el codigo sin que se generen errores , es necesario subir la imagen de la cancha con el nombre 'a.jpg'*"
      ]
    },
    {
      "cell_type": "markdown",
      "metadata": {
        "id": "Ye6UcprWrDiw"
      },
      "source": [
        "si subio el notebook a google colab y la aimagen a su drive ejecute esta celda\n"
      ]
    },
    {
      "cell_type": "code",
      "execution_count": null,
      "metadata": {
        "id": "UwnAjqGVrEpQ"
      },
      "outputs": [],
      "source": [
        "from google.colab import drive\n",
        "drive.mount('/content/drive')\n",
        "ruta_imagen = \"./drive/MyDrive/a.jpg\""
      ]
    },
    {
      "cell_type": "markdown",
      "metadata": {
        "id": "7nab4PvmrLdn"
      },
      "source": [
        "de otra forma, si la subio directamente al colab ejecute esta celda"
      ]
    },
    {
      "cell_type": "code",
      "execution_count": null,
      "metadata": {
        "id": "iCfx0X2CrWA3"
      },
      "outputs": [],
      "source": [
        "ruta_imagen = \"./a.jpg\""
      ]
    },
    {
      "cell_type": "markdown",
      "metadata": {
        "id": "9TRILFKFrfF5"
      },
      "source": [
        "# PROYECTO"
      ]
    },
    {
      "cell_type": "markdown",
      "metadata": {
        "id": "_RLmy1cTrxiY"
      },
      "source": [
        "EJECUTE TODAS LAS CELDAS DE CODIGO EN ORDEN \n",
        "\n",
        "la definicion formal se encuentra luego del codigo :)"
      ]
    },
    {
      "cell_type": "code",
      "execution_count": 3,
      "metadata": {
        "id": "n4vjgUvYu7Vx"
      },
      "outputs": [],
      "source": [
        "from PIL import Image, ImageDraw, ImageFont\n",
        "import random\n",
        "import math\n",
        "import numpy as np\n",
        "from automata.fa.dfa import DFA  #cuando se encuentre en colaboratory\n",
        "import re\n",
        "\n",
        "image = Image.open(ruta_imagen)\n",
        "draw = ImageDraw.Draw(image)\n",
        "r = 14 #radio de 14\n",
        "jugadores={}\n",
        "condicion = {}\n",
        "posicion_canasta = [569,169]\n",
        "\n",
        "def dibujar_jugador(x, y, num,color):\n",
        "    ListaDePuntos = (x-r, y-r, x+r, y+r)    \n",
        "    draw.ellipse(ListaDePuntos, fill=color)\n",
        "    font = ImageFont.load_default()\n",
        "    draw.text((x-(r/2),y-(r/2)), \"{:2}\".format(num), font=font, fill=(255, 255, 255))\n",
        "    jugadores[num] = (x, y)\n",
        "\n",
        "def dibujar_equipo(color,min_number,max_number,rango_x,rango_y):\n",
        "    for i in range(min_number,max_number):\n",
        "        x,y = random.randint(rango_x[0], rango_x[1]) , random.randint(rango_y[0], rango_y[1])\n",
        "        while any((x-r-12) < posicion[0] < (x+r+12) and (y-r-12) < posicion[1] < (y+r+12) for posicion in jugadores.values()): \n",
        "            x,y = random.randint(rango_x[0], rango_x[1]) , random.randint(rango_y[0], rango_y[1])\n",
        "        dibujar_jugador(x, y, i,color)\n",
        "\n",
        "def dibujar_jugador_inicial():\n",
        "  jugador_inicial = min(equipo1,key=equipo1.get)\n",
        "  dibujar_jugador(equipo1[jugador_inicial][0],equipo1[jugador_inicial][1],jugador_inicial,(0,0,0))\n",
        "  return jugador_inicial\n",
        "\n",
        "def distancia_entre_puntos(x1,y1,x2,y2):\n",
        "  return math.sqrt( (x2 - x1)**2 + (y2 - y1)**2 )\n",
        "\n",
        "def intersecta(p1, p2, c, r):\n",
        "    c1 = np.subtract(c, p1)\n",
        "    c2 = np.subtract(c, p2)\n",
        "    dist1 = np.linalg.norm(c1)\n",
        "    dist2 = np.linalg.norm(c2)\n",
        "    if (r - dist1) * (r - dist2) < 0: return True\n",
        "    if r > dist1: return False\n",
        "    dp = np.subtract(p2, p1)\n",
        "    t = dp.dot(c1) / dp.dot(dp)\n",
        "    if t < 0 or t > 1: return False\n",
        "    cp = np.subtract(p1 + t * dp, c)\n",
        "    distp = np.linalg.norm(cp)\n",
        "    return distp <= r\n",
        "\n",
        "def jugador_mas_cercano(jugador1,ignorar):\n",
        "  distancia_entre_jugadores = []\n",
        "  for jugador,posicion in equipo1.items():\n",
        "    if jugador != jugador1:\n",
        "      distancia_entre_jugadores.append((jugador1,jugador,distancia_entre_puntos(jugadores[jugador1][0],jugadores[jugador1][1],posicion[0],posicion[1])))\n",
        "  jugador_mas_cercano = min(distancia_entre_jugadores, key = lambda x: x[2])\n",
        "  while jugador_mas_cercano[1] in ignorar.values() or jugador_mas_cercano[1] == jugador_inicial:\n",
        "    distancia_entre_jugadores.remove(jugador_mas_cercano)\n",
        "    jugador_mas_cercano = min(distancia_entre_jugadores, key = lambda x: x[2])\n",
        "  return jugador_mas_cercano[1]\n",
        "\n",
        "def jugadores_mas_cercanos():\n",
        "  mas_cercanos = {}\n",
        "  temp = jugador_inicial\n",
        "  for i in range(4):\n",
        "    mas_cercanos[temp] = jugador_mas_cercano(temp,mas_cercanos)\n",
        "    temp = mas_cercanos[temp]\n",
        "  return mas_cercanos , temp\n",
        "\n",
        "def verificar_pase_entre_jugadores(jugador1,jugador2):\n",
        "  obstaculos = []\n",
        "  for pos in jugadores.values():\n",
        "      if (pos[0] != jugadores[jugador1][0] and pos[1] != jugadores[jugador1][1]) and (pos[0] != jugadores[jugador2][0] and pos[1] != jugadores[jugador2][1]):\n",
        "        result = (jugador1, jugador2 , intersecta([jugadores[jugador1][0],jugadores[jugador1][1]], [jugadores[jugador2][0],jugadores[jugador2][1]], [pos[0], pos[1]], r+2))\n",
        "        obstaculos.append(result)\n",
        "  pase = [(pase[0],pase[1],pase[2]) for pase in obstaculos if pase[2]]   \n",
        "  return '1' if not pase else '0'\n",
        "\n",
        "def verificar_distancia_entre_jugadores(jugador1,jugador2,equipo):\n",
        "  return '1' if equipo[jugador2][0] >= equipo[jugador1][0] - 45 else '0'\n"
      ]
    },
    {
      "cell_type": "code",
      "execution_count": 4,
      "metadata": {
        "id": "7J4Uxx9Uyp2Z"
      },
      "outputs": [],
      "source": [
        "def generar_palabras():\n",
        "  #primera pregunta ¿se la puedo pasar?\n",
        "  for jugador in mas_cercanos:\n",
        "      condicion[mas_cercanos[jugador]] = verificar_pase_entre_jugadores(jugador,mas_cercanos[jugador])\n",
        "\n",
        "  #segunda pregunta ¿tiene alguna opcion de pase?\n",
        "  for jugador in condicion:\n",
        "      if jugador == ultimo_jugador:\n",
        "        condicion[jugador] = condicion[jugador] + '1'\n",
        "      else:\n",
        "        condicion[jugador] +=  verificar_pase_entre_jugadores(jugador,mas_cercanos[jugador])\n",
        "\n",
        "  #tercera pregunta ¿esta a una distancia superior a 45 puntos detras del que la pasa?\n",
        "  for jugador in mas_cercanos:\n",
        "      condicion[mas_cercanos[jugador]] +=  verificar_distancia_entre_jugadores(jugador,mas_cercanos[jugador],equipo1)\n",
        "\n",
        "  #cuarta pregunta ¿es el ultimo jugador?\n",
        "  for jugador in condicion:\n",
        "    condicion[jugador] += '1' if jugador == ultimo_jugador else '0'\n",
        "\n",
        "  #quinta pregunta si es el ultimo jugador, ¿puede tirar?\n",
        "  colisiones = []\n",
        "  for pos in jugadores.values():\n",
        "    if pos[0] != equipo1[ultimo_jugador][0] and pos[1] != equipo1[ultimo_jugador][1]:\n",
        "      colisiones.append(intersecta([equipo1[ultimo_jugador][0],equipo1[ultimo_jugador][1]],posicion_canasta, [pos[0], pos[1]], r+2))\n",
        "  colisiones = [tiro for tiro in colisiones if tiro]\n",
        "  condicion[ultimo_jugador] = condicion[ultimo_jugador] + '1' if not colisiones else condicion[ultimo_jugador] + '0'"
      ]
    },
    {
      "cell_type": "code",
      "execution_count": null,
      "metadata": {
        "id": "1uUK9NIWzE0d"
      },
      "outputs": [],
      "source": [
        "def automata_filtrador():\n",
        "  dfa1 = DFA(\n",
        "      states={'q0', 'q1', 'q2', 'q3','q4','q5','q6','q7','q8','q9','q10'},\n",
        "      input_symbols={'0','1'},\n",
        "      transitions={\n",
        "          'q0': {'0': 'q1', '1':'q2'},\n",
        "          'q1': {'0': 'q1', '1':'q1'},\n",
        "          'q2': {'0': 'q3', '1':'q4'},\n",
        "          'q3': {'0': 'q3', '1':'q3'},\n",
        "          'q4': {'0': 'q5', '1':'q6'},\n",
        "          'q5': {'0': 'q5', '1':'q5'},\n",
        "          'q6': {'0': 'q7', '1':'q8'},\n",
        "          'q7': {},\n",
        "          'q8': {'0': 'q9', '1':'q10'},\n",
        "          'q9': {},\n",
        "          'q10': {}\n",
        "      },\n",
        "      initial_state='q0',\n",
        "      final_states={'q7','q10'},\n",
        "      allow_partial = True \n",
        "  )\n",
        "  return dfa1\n",
        "\n",
        "dfa1 = automata_filtrador()\n",
        "\n",
        "def automata_jugada(palabra):\n",
        "  palabra = [caracter for caracter in palabra]\n",
        "  dfa2 = DFA(\n",
        "      states={'q0', 'q1', 'q2', 'q3','q4','q5','q6'},\n",
        "      input_symbols={'0','1','2','3','4','5','t'},\n",
        "      transitions={\n",
        "          'q0': {palabra[0]: 'q1'},\n",
        "          'q1': {palabra[1]: 'q2'},\n",
        "          'q2': {palabra[2]: 'q3'},\n",
        "          'q3': {palabra[3]: 'q4'},\n",
        "          'q4': {palabra[4]: 'q5'},\n",
        "          'q5': {palabra[5]: 'q6'},\n",
        "          'q6': {},\n",
        "      },\n",
        "      initial_state='q0',\n",
        "      final_states={'q6'},\n",
        "      allow_partial = True \n",
        "  )\n",
        "  return dfa2\n",
        "\n",
        "def verificar_jugada():\n",
        "  for jugador,palabra in condicion.items():\n",
        "    try:\n",
        "      estado_final = dfa1.read_input(palabra)\n",
        "      if estado_final == 'q10':\n",
        "        print('genereacion valida')\n",
        "        return True\n",
        "    except Exception as error:\n",
        "      estado_final = 'q' + re.search(r'\\d+', str(error)).group(0)\n",
        "      if estado_final =='q1':\n",
        "        print(f'generacion invalida, el jugador numero {jugador} no puede recibir el balon de {jugador_inicial}')\n",
        "      elif estado_final == 'q3':\n",
        "        print(f'generacion invalida, el jugador numero {jugador} no tiene opcion de pase')\n",
        "      elif estado_final == 'q5':\n",
        "        print(f'generacion invalida, el jugador numero {jugador} esta demasiado por detras de {list(mas_cercanos)[list(mas_cercanos.values()).index(jugador)]}')\n",
        "      elif estado_final == 'q9':\n",
        "        print(f'generacion invalida, el jugador numero {jugador} tiene un obstaculo y no puede tirar')\n",
        "      else:\n",
        "        print(error,jugador)\n",
        "      generar_tablero()\n",
        "      break\n",
        "\n",
        "def generar_tablero():\n",
        "  global image,draw,equipo1,equipo2,condicion, jugador_inicial, ultimo_jugador, mas_cercanos\n",
        "  image.close()\n",
        "  image = Image.open(ruta_imagen)\n",
        "  draw = ImageDraw.Draw(image)\n",
        "  jugadores.clear()\n",
        "  condicion.clear()\n",
        "  dibujar_equipo((0,0,255,),1,6,[306,560],[30,305]) #azul\n",
        "  dibujar_equipo((255,0,0),6,11,[400,560],[70,280]) #rojo\n",
        "  equipo1 = {jugador: posicion for jugador,posicion in jugadores.items() if jugador < 6}\n",
        "  equipo2 = {jugador: posicion for jugador,posicion in jugadores.items() if jugador >= 6}\n",
        "  jugador_inicial = dibujar_jugador_inicial()\n",
        "  mas_cercanos, ultimo_jugador = jugadores_mas_cercanos()\n",
        "  generar_palabras()\n",
        "  verificar_jugada()\n",
        "\n",
        "generar_tablero()\n",
        "\n",
        "palabra = str(jugador_inicial) + ''.join(map(str, list(mas_cercanos.values()))) + 't'\n",
        "automata_jugada = automata_jugada(palabra)"
      ]
    },
    {
      "cell_type": "code",
      "execution_count": null,
      "metadata": {
        "id": "LJveQDPJKkgC"
      },
      "outputs": [],
      "source": [
        "display(image)"
      ]
    },
    {
      "cell_type": "code",
      "execution_count": null,
      "metadata": {
        "id": "1VhdJrJPLw9q"
      },
      "outputs": [],
      "source": [
        "if verificar_jugada():\n",
        "  while True:\n",
        "    try:\n",
        "      palabra_jugador = input(\"\\n -- escriba la jugada correcta --\")\n",
        "      estado_final = automata_jugada.read_input(palabra_jugador)\n",
        "      print(\"\\n **la jugada digitada es correcta**\")\n",
        "      break \n",
        "    except Exception as e:\n",
        "      continue"
      ]
    },
    {
      "cell_type": "markdown",
      "metadata": {
        "id": "HixejFt7p5hR"
      },
      "source": [
        "# Definicion Formal\n",
        "\n",
        "\n",
        "\n",
        "\n",
        "\n",
        "\n",
        "\n"
      ]
    },
    {
      "cell_type": "markdown",
      "metadata": {
        "id": "Y7zVOEQwsm7f"
      },
      "source": [
        "## automata_filtrador\n",
        "sea automata_filtrador = {Q , ∑ , 𝛾 , q0 , F}\n",
        "\n",
        "Q = {'q0', 'q1', 'q2', 'q3','q4','q5','q6','q7','q8','q9','q10'}\n",
        "\n",
        "∑ = {'0','1'}\n",
        "\n",
        "<details>\n",
        "  <summary> 𝛾 (transiciones)</summary>\n",
        "\n",
        "  𝛾( q0 , '0' ) = q1\n",
        "\n",
        "  𝛾( q0 , '1' ) = q2\n",
        "\n",
        "  𝛾( q1 , '0' ) = q1\n",
        "\n",
        "  𝛾( q1 , '1' ) = q1\n",
        "\n",
        "  𝛾( q2 , '0' ) = q3\n",
        "\n",
        "  𝛾( q2 , '1' ) = q4\n",
        "\n",
        "  𝛾( q3 , '0' ) = q3\n",
        "\n",
        "  𝛾( q3 , '1' ) = q3\n",
        "\n",
        "  𝛾( q4 , '0' ) = q5\n",
        "\n",
        "  𝛾( q4 , '1' ) = q6\n",
        "\n",
        "  𝛾( q5 , '0' ) = q5\n",
        "\n",
        "  𝛾( q5 , '1' ) = q5\n",
        "\n",
        "  𝛾( q6 , '0' ) = q7\n",
        "\n",
        "  𝛾( q6 , '1' ) = q8\n",
        "\n",
        "  𝛾( q8 , '0' ) = q9\n",
        "\n",
        "  𝛾( q8 , '1' ) = q10\n",
        "</details>\n",
        "\n",
        "q0 = 'q0'\n",
        "\n",
        "F = {'q7','q10'}\n",
        "\n",
        "*diagrama:*\n",
        "\n",
        "![imagen automata filtrador](https://i.imgur.com/nYHYFby.png)"
      ]
    },
    {
      "cell_type": "markdown",
      "metadata": {
        "id": "93ITVC3QweJW"
      },
      "source": [
        "## automata_jugada\n",
        "\n",
        "sea automata_jugada = {Q , ∑ , 𝛾 , q0 , F}\n",
        "\n",
        "Q = { 'q0' , 'q1' , 'q2' , 'q3' , 'q4' , 'q5' , 'q6' }\n",
        "\n",
        "∑ = { '1', '2' , '3' , '4' , '5' , 't' }\n",
        "\n",
        "<details>\n",
        "  <summary> 𝛾 (transiciones)</summary>\n",
        "\n",
        "  𝛾( q0 , pase[0] ) = q1\n",
        "\n",
        "  𝛾( q1 , pase[1] ) = q2\n",
        "\n",
        "  𝛾( q2 , pase[2] ) = q3\n",
        "\n",
        "  𝛾( q3 , pase[3] ) = q4\n",
        "\n",
        "  𝛾( q4 , pase[4] ) = q5\n",
        "\n",
        "  𝛾( q5 , 't' ) = q6\n",
        "\n",
        "</details>\n",
        "\n",
        "q0 = 'q0'\n",
        "\n",
        "F = {'q6'}\n",
        "\n",
        "diagrama:\n",
        "\n",
        "![diagrama automata jugada](https://i.imgur.com/qHMWisF.png)"
      ]
    }
  ],
  "metadata": {
    "colab": {
      "collapsed_sections": [
        "wCVBiqxfqvwv",
        "9TRILFKFrfF5",
        "HixejFt7p5hR"
      ],
      "name": "Proyecto_Automatas.ipynb",
      "provenance": []
    },
    "kernelspec": {
      "display_name": "Python 3",
      "name": "python3"
    },
    "language_info": {
      "name": "python"
    }
  },
  "nbformat": 4,
  "nbformat_minor": 0
}
